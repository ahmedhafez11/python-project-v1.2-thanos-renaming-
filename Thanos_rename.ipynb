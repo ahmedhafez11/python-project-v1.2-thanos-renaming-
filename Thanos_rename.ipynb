{
 "cells": [
  {
   "cell_type": "code",
   "execution_count": 96,
   "metadata": {},
   "outputs": [],
   "source": [
    "import os\n",
    "import time "
   ]
  },
  {
   "cell_type": "code",
   "execution_count": 97,
   "metadata": {},
   "outputs": [],
   "source": [
    "def get_universe_people(path) :\n",
    "    people = os.listdir(path)\n",
    "    return people  "
   ]
  },
  {
   "cell_type": "code",
   "execution_count": 98,
   "metadata": {},
   "outputs": [
    {
     "data": {
      "text/plain": [
       "50"
      ]
     },
     "execution_count": 98,
     "metadata": {},
     "output_type": "execute_result"
    }
   ],
   "source": [
    "universe = get_universe_people(\"parallel_universe\")\n",
    "universe \n",
    "len(universe)"
   ]
  },
  {
   "cell_type": "markdown",
   "metadata": {},
   "source": [
    "This code rename files from lowercase letters to uppercase letters :"
   ]
  },
  {
   "cell_type": "code",
   "execution_count": 103,
   "metadata": {},
   "outputs": [],
   "source": [
    "def rename(universe) :\n",
    "         for person in universe :\n",
    "            os.rename(\"parallel_universe/\" + person,\"parallel_universe/\"+ person.upper())\n",
    "            print(f\"renaming person : {person}\")\n",
    "            time.sleep(1)\n",
    "         print(\"perfectly balanced, as all things should be\") \n",
    "\n"
   ]
  },
  {
   "cell_type": "code",
   "execution_count": 104,
   "metadata": {},
   "outputs": [
    {
     "name": "stdout",
     "output_type": "stream",
     "text": [
      "renaming person : Adam Sandler.jpg\n",
      "renaming person : Angelina Julie.png\n",
      "renaming person : Ariana Grande.jpeg\n",
      "renaming person : Ben Affleck.jpg\n",
      "renaming person : Ben Stiller.jpg\n",
      "renaming person : Bill Gates.jpg\n",
      "renaming person : Brad Pitt.jpg\n",
      "renaming person : Britney Spears.jpg\n",
      "renaming person : Bruce Lee.jpg\n",
      "renaming person : Cameron Diaz.jpg\n",
      "renaming person : Dwayne Johnson.jpg\n",
      "renaming person : Elon Musk.jpg\n",
      "renaming person : Elton John.jpg\n",
      "renaming person : Jack Black.jpg\n",
      "renaming person : Jackie Chan.jpg\n",
      "renaming person : Jamie Foxx.jpg\n",
      "renaming person : Jason Segel.jpg\n",
      "renaming person : Jason Statham.jpg\n",
      "renaming person : Jeff Bezos.jpg\n",
      "renaming person : Jennifer Aniston.jpg\n",
      "renaming person : Jennifer Lopez.jpg\n",
      "renaming person : Jerry Seinfeld.jpg\n",
      "renaming person : Jim Carrey.jpg\n",
      "renaming person : John Cena.jpg\n",
      "renaming person : Johnny Depp.jpg\n",
      "renaming person : Josh Radnor.jpg\n",
      "renaming person : Julia Roberts.jpg\n",
      "renaming person : Justin Timberlake.jpg\n",
      "renaming person : Kate Upton.jpg\n",
      "renaming person : Keanu Reeves.jpg\n",
      "renaming person : Kevin Hart.jpg\n",
      "renaming person : Madonna.jpg\n",
      "renaming person : Mark Ruffalo.jpg\n",
      "renaming person : Mark Zuckerberg.jpg\n",
      "renaming person : Matt Damon.jpg\n",
      "renaming person : Michael Jackson.jpg\n",
      "renaming person : Michael Jordan.jpg\n",
      "renaming person : Mindy Kaling.jpg\n",
      "renaming person : Miranda Cosgrove.jpg\n",
      "renaming person : Neil Patrick Harris.jpg\n",
      "renaming person : Nick Jonas.jpg\n",
      "renaming person : Nicole Kidman.jpg\n",
      "renaming person : Paul Rudd.jpg\n",
      "renaming person : Robin Williams.jpg\n",
      "renaming person : Steve Carell.jpg\n",
      "renaming person : Steve Jobs.jpg\n",
      "renaming person : Sylvester Stallone.jpg\n",
      "renaming person : Tom Cruise.jpg\n",
      "renaming person : Will Ferrell.jpg\n",
      "renaming person : Will Smith.jpg\n",
      "perfectly balanced, as all things should be\n"
     ]
    }
   ],
   "source": [
    "rename(universe)"
   ]
  },
  {
   "cell_type": "code",
   "execution_count": null,
   "metadata": {},
   "outputs": [],
   "source": []
  }
 ],
 "metadata": {
  "interpreter": {
   "hash": "74cea072d339d395d3f04c14b7e56bb1502de0a4270bb7596a33cae9be206d44"
  },
  "kernelspec": {
   "display_name": "Python 3.7.6 ('base')",
   "language": "python",
   "name": "python3"
  },
  "language_info": {
   "codemirror_mode": {
    "name": "ipython",
    "version": 3
   },
   "file_extension": ".py",
   "mimetype": "text/x-python",
   "name": "python",
   "nbconvert_exporter": "python",
   "pygments_lexer": "ipython3",
   "version": "3.7.6"
  },
  "orig_nbformat": 4
 },
 "nbformat": 4,
 "nbformat_minor": 2
}
